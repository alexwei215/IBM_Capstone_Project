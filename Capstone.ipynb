{
    "cells": [
        {
            "cell_type": "markdown",
            "metadata": {
                "collapsed": true
            },
            "source": "# This Python Jupyter Notebook will be used for IBM Capstone Project Development"
        },
        {
            "cell_type": "code",
            "execution_count": 1,
            "metadata": {},
            "outputs": [],
            "source": "import pandas as pd\nimport numpy as np"
        },
        {
            "cell_type": "code",
            "execution_count": 2,
            "metadata": {},
            "outputs": [
                {
                    "name": "stdout",
                    "output_type": "stream",
                    "text": "Hello Capstone Project Course!\n"
                }
            ],
            "source": "print('Hello Capstone Project Course!')"
        },
        {
            "cell_type": "markdown",
            "metadata": {},
            "source": "# Battle of Neighborhoods - Exploring the Neighborhoods around Johns Hopkins Carey Business School"
        },
        {
            "cell_type": "markdown",
            "metadata": {},
            "source": "### In 2019, Baltimore ranks the 4th most dangerous city in America, according to financial news website 247wallst.com. Baltimore\u2019s violent crime rate in 2018, which was 1,833.4 per 100,000 people, is nearly five times higher than the national violent crime rate of 369 per 100,000 people. At the same time, properties some of the safest areas of Baltimore remained overly expensive for both buyers and renters. The disconnection between the housing market and the public not only arouses social uneasiness but also widens the economcic gap between working classes. \n\n### However, there is currently no accesible platform that would guide students attending JHU Carey Business School in the near future to choose which neighborhood to live in and make suggestion of which restaurants to go to. This project will give a brief introduction and offer some insights to the living environment of Inner Harbor, Baltimore, MD. "
        },
        {
            "cell_type": "markdown",
            "metadata": {},
            "source": "## 1. Analysis of crime data of Baltimore\n### Crime data will be pulled from the database of Baltimore Police Department. Data contains data, time, geographical location, type, neighborhood, etc. This data will show the crime rate in different neighborhoods of Baltimore."
        },
        {
            "cell_type": "code",
            "execution_count": 3,
            "metadata": {},
            "outputs": [],
            "source": "# Url from Baltimore City Police Department\nurl = 'https://data.baltimorecity.gov/api/views/wsfq-mvij/rows.csv?accessType=DOWNLOAD'"
        },
        {
            "cell_type": "code",
            "execution_count": null,
            "metadata": {},
            "outputs": [],
            "source": "# Load data from the website\ndf_crime = pd.read_csv(url)\ndf_crime.head()"
        },
        {
            "cell_type": "code",
            "execution_count": null,
            "metadata": {},
            "outputs": [],
            "source": "# Only crime date and neighborhoods are needed for this project\ndf_crime = df_crime[['CrimeDate','Neighborhood']]\ndf_crime.head()"
        },
        {
            "cell_type": "code",
            "execution_count": null,
            "metadata": {},
            "outputs": [],
            "source": "# Check the size of dataframe\ndf_crime.shape"
        },
        {
            "cell_type": "code",
            "execution_count": null,
            "metadata": {},
            "outputs": [],
            "source": "# Drop null data\ndf_crime.dropna(axis = 0, inplace = True)\ndf_crime.shape"
        },
        {
            "cell_type": "code",
            "execution_count": null,
            "metadata": {},
            "outputs": [],
            "source": "# Check data types \ndf_crime.dtypes"
        },
        {
            "cell_type": "code",
            "execution_count": null,
            "metadata": {
                "scrolled": true
            },
            "outputs": [],
            "source": "# Group and count crime number by different neighborhoods\ncrime_by_nei = df_crime.groupby(['Neighborhood']).count().reset_index()\ncrime_by_nei"
        },
        {
            "cell_type": "code",
            "execution_count": null,
            "metadata": {},
            "outputs": [],
            "source": "# Rename count column and update the dataframe\ncrime_by_nei.rename(columns={'CrimeDate': \"Count\" }, inplace = True)\ncrime_by_nei.head()"
        },
        {
            "cell_type": "code",
            "execution_count": null,
            "metadata": {
                "scrolled": true
            },
            "outputs": [],
            "source": "# Clean up non-existing neighborhoods\ncrime_by_nei.drop(crime_by_nei.index[[0,1,2]], inplace = True)\ncrime_by_nei"
        },
        {
            "cell_type": "code",
            "execution_count": null,
            "metadata": {
                "scrolled": true
            },
            "outputs": [],
            "source": "# Rank neighborhoods by their number of crimes\ncrime_by_nei.sort_values(by=['Count'], inplace = True, ascending=False)\ncrime_by_nei"
        },
        {
            "cell_type": "code",
            "execution_count": null,
            "metadata": {
                "scrolled": true
            },
            "outputs": [],
            "source": "# Take the first 10 rows of data\ncrime_top10 = crime_by_nei.head(10)\ncrime_top10"
        },
        {
            "cell_type": "code",
            "execution_count": null,
            "metadata": {},
            "outputs": [],
            "source": "import matplotlib.pyplot as plt\nfrom matplotlib.ticker import StrMethodFormatter"
        },
        {
            "cell_type": "code",
            "execution_count": null,
            "metadata": {},
            "outputs": [],
            "source": "# Plot the top 10 most dangerous neighborhoods in Baltimore\nax = crime_top10.plot.bar(x ='Neighborhood', y = 'Count',figsize = (12,8),rot=45,color = ['black', 'black','black','black','black','red','black','black','black','black'])\nplt.title('Top 10 Most Dangerous Neighborhoods in Baltimore', fontsize = 20)\nplt.ylabel('Total Number of Crimes Reported from Jan 2000 to Aug 2020', fontsize = 15)\nplt.xlabel('Name of the Neighborhoods', fontsize = 15)"
        },
        {
            "cell_type": "code",
            "execution_count": null,
            "metadata": {
                "scrolled": true
            },
            "outputs": [],
            "source": "# Specifically looking at Inner Harbor\ncrime_IH = df_crime[df_crime['Neighborhood'] == 'INNER HARBOR']\ncrime_IH.head()"
        },
        {
            "cell_type": "code",
            "execution_count": null,
            "metadata": {},
            "outputs": [],
            "source": "# Check the number of cases happened at Inner Harbor\ncrime_IH.shape"
        },
        {
            "cell_type": "code",
            "execution_count": null,
            "metadata": {
                "scrolled": true
            },
            "outputs": [],
            "source": "# Convert column CrimeDate to datatime format so we would be able to group by year or month\ncrime_IH['CrimeDate'] = pd.to_datetime(crime_IH['CrimeDate'])\ncrime_IH.head()"
        },
        {
            "cell_type": "code",
            "execution_count": null,
            "metadata": {},
            "outputs": [],
            "source": "# Set CrimeDate as the index for this dataframe\ncrime_IH.set_index('CrimeDate', inplace = True)\ncrime_IH.head()"
        },
        {
            "cell_type": "code",
            "execution_count": null,
            "metadata": {},
            "outputs": [],
            "source": "# Create a dataframe by grouping by year for all neighborhoods in Baltimore\nBG=crime_IH.groupby([(crime_IH.index.year)]).count()\nBG"
        },
        {
            "cell_type": "code",
            "execution_count": null,
            "metadata": {},
            "outputs": [],
            "source": "#Create a second dataframe grouping by different months of the year\nAG=crime_IH.groupby([(crime_IH.index.month)]).count()\nAG"
        },
        {
            "cell_type": "code",
            "execution_count": null,
            "metadata": {},
            "outputs": [],
            "source": "#Rename colomns\nBG.rename(columns={'Neighborhood': \"Count\" }, inplace = True)\nBG"
        },
        {
            "cell_type": "code",
            "execution_count": null,
            "metadata": {
                "scrolled": false
            },
            "outputs": [],
            "source": "# Plot number of crimes based on year until Aug 2020\nBG.reset_index().plot.bar(x = 'CrimeDate', y = 'Count', legend = False, figsize = (12,8),rot=45)\nplt.title('Crimes Counts of Inner Harbor Annually  with August 2020', fontsize = 20)\nplt.xlabel('Year', fontsize = 15)\nplt.ylabel('Number of Crime Cases', fontsize = 15)"
        },
        {
            "cell_type": "code",
            "execution_count": null,
            "metadata": {
                "scrolled": true
            },
            "outputs": [],
            "source": "# Extrapolate 2020 crime count\nBG1 = BG.replace(245, 245*12/8)\nBG1"
        },
        {
            "cell_type": "code",
            "execution_count": null,
            "metadata": {
                "scrolled": false
            },
            "outputs": [],
            "source": "# Plot predicted number of crime in Inner Harbor annually until Dec 2020\nBG1.reset_index().plot.bar(x = 'CrimeDate', y = 'Count', legend = False, figsize = (12,8),rot=45, color = ['black', 'black','black','black','black','black','red'])\nplt.title('Crimes Counts of Inner Harbor Annually with 2020 Extrapolated until Dec', fontsize = 20)\nplt.xlabel('Year', fontsize = 15)\nplt.ylabel('Number of Crime Cases', fontsize = 15)"
        },
        {
            "cell_type": "code",
            "execution_count": null,
            "metadata": {},
            "outputs": [],
            "source": "# import seaborn\nimport seaborn as sns"
        },
        {
            "cell_type": "code",
            "execution_count": null,
            "metadata": {},
            "outputs": [],
            "source": "# Plot monthly number of crimes in Inner Harbor per month over the past 20 years to support the argument that we extrapolated\n# the number of crimes from Sept to Dec in 2020. This plot shows that the number of crimes decreases towards the end of the year.\nAG.reset_index(inplace = True)\nbx = sns.lineplot(x=\"CrimeDate\", y=\"Neighborhood\", data=AG)\nplt.rcParams['figure.figsize']=(15,15)\nplt.xlabel('Month', fontsize = 15)\nplt.ylabel('Number of Crime Cases', fontsize = 15)\nplt.title('Number of Crimes per Month of the Year', fontsize = 20)"
        },
        {
            "cell_type": "code",
            "execution_count": null,
            "metadata": {},
            "outputs": [],
            "source": "# Import modules for map, cluster, and plotting modules\npd.set_option('display.max_columns', None)\npd.set_option('display.max_rows', None)\n\nimport json # library to handle JSON files\n\n#!conda install -c conda-forge geopy --yes # uncomment this line if you haven't completed the Foursquare API lab\nfrom geopy.geocoders import Nominatim # convert an address into latitude and longitude values\n\nimport requests # library to handle requests\nfrom pandas.io.json import json_normalize # tranform JSON file into a pandas dataframe\n\n# Matplotlib and associated plotting modules\nimport matplotlib.cm as cm\nimport matplotlib.colors as colors\n\n# libraries for displaying images\nfrom IPython.display import Image \nfrom IPython.core.display import HTML \n\n# import k-means from clustering stage\nfrom sklearn.cluster import KMeans\n\n!pip install folium #if just opened this document \nimport folium # map rendering library\n\nprint('Libraries imported.')"
        },
        {
            "cell_type": "code",
            "execution_count": null,
            "metadata": {},
            "outputs": [],
            "source": "# Get the geographical coordinate of Inner Harbor, MD\naddress = '707 President St, Baltimore'\ngeolocator = Nominatim(user_agent=\"to_explorer\")\nlocation = geolocator.geocode(address)\nlatitude = location.latitude\nlongitude = location.longitude\nprint('The geograpical coordinates of Inner Harbor are {}, {}.'.format(latitude, longitude))"
        },
        {
            "cell_type": "code",
            "execution_count": null,
            "metadata": {},
            "outputs": [],
            "source": "CLIENT_ID = 'OEBIOKHBL1PY13SJ1ZZV5154FAYCJ34T23YLFMNWHTVO2DTC' # your Foursquare ID\nCLIENT_SECRET = 'NPCHLXKJK5PC4I4MRVX5EASKV00IGRZSW2KNCICZQAA1MTZY' # your Foursquare Secret\nVERSION = '20200604'\nLIMIT = 30\nprint('Your credentails:')\nprint('CLIENT_ID: ' + CLIENT_ID)\nprint('CLIENT_SECRET:' + CLIENT_SECRET)"
        },
        {
            "cell_type": "code",
            "execution_count": null,
            "metadata": {},
            "outputs": [],
            "source": "search_query = 'Restaurant'\nradius = 600\nprint(search_query + ' .... OK!')"
        },
        {
            "cell_type": "code",
            "execution_count": null,
            "metadata": {},
            "outputs": [],
            "source": "url = 'https://api.foursquare.com/v2/venues/search?client_id={}&client_secret={}&ll={},{}&v={}&query={}&radius={}&limit={}'.format(CLIENT_ID, CLIENT_SECRET, latitude, longitude, VERSION, search_query, radius, LIMIT)\nurl"
        },
        {
            "cell_type": "code",
            "execution_count": null,
            "metadata": {},
            "outputs": [],
            "source": "results = requests.get(url).json()\nresults"
        },
        {
            "cell_type": "code",
            "execution_count": null,
            "metadata": {},
            "outputs": [],
            "source": "# assign relevant part of JSON to venues\nvenues = results['response']['venues']\n# tranform venues into a dataframe\ndataframe = json_normalize(venues)\ndataframe.head()"
        },
        {
            "cell_type": "code",
            "execution_count": null,
            "metadata": {},
            "outputs": [],
            "source": "filtered_columns = ['name', 'categories'] + [col for col in dataframe.columns if col.startswith('location.')] + ['id']\ndataframe_filtered = dataframe.loc[:, filtered_columns]\n\n# function that extracts the category of the venue\ndef get_category_type(row):\n    try:\n        categories_list = row['categories']\n    except:\n        categories_list = row['venue.categories']\n        \n    if len(categories_list) == 0:\n        return None\n    else:\n        return categories_list[0]['name']\n\n# filter the category for each row\ndataframe_filtered['categories'] = dataframe_filtered.apply(get_category_type, axis=1)\n\n# clean column names by keeping only last term\ndataframe_filtered.columns = [column.split('.')[-1] for column in dataframe_filtered.columns]\n\ndataframe_filtered"
        },
        {
            "cell_type": "code",
            "execution_count": null,
            "metadata": {
                "scrolled": false
            },
            "outputs": [],
            "source": "# Make a map that highlights all local restaurants near the JHU Carey Business School \nvenues_map = folium.Map(location=[latitude, longitude], zoom_start=16) # generate map centred around the JHU Carey Business School \n\nfolium.CircleMarker(\n    [latitude, longitude],\n    radius=10,\n    popup='Johns Hopkins Carey Business School',\n    fill=True,\n    color='red',\n    fill_color='red',\n    fill_opacity=0.6\n    ).add_to(venues_map)\n\n# add all restaurants as blue circle markers\nfor lat, lng, label in zip(dataframe_filtered.lat, dataframe_filtered.lng, dataframe_filtered.categories):\n    folium.CircleMarker(\n        [lat, lng],\n        radius=5,\n        color='blue',\n        popup=label,\n        fill = True,\n        fill_color='blue',\n        fill_opacity=0.6\n    ).add_to(venues_map)\n\n# display map\nvenues_map"
        },
        {
            "cell_type": "code",
            "execution_count": null,
            "metadata": {},
            "outputs": [],
            "source": ""
        }
    ],
    "metadata": {
        "kernelspec": {
            "display_name": "Python 3.6",
            "language": "python",
            "name": "python3"
        },
        "language_info": {
            "codemirror_mode": {
                "name": "ipython",
                "version": 3
            },
            "file_extension": ".py",
            "mimetype": "text/x-python",
            "name": "python",
            "nbconvert_exporter": "python",
            "pygments_lexer": "ipython3",
            "version": "3.6.9"
        }
    },
    "nbformat": 4,
    "nbformat_minor": 1
}