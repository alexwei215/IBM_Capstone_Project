{
    "cells": [
        {
            "cell_type": "markdown",
            "metadata": {
                "collapsed": true
            },
            "source": "# This Python Jupyter Notebook will be used for IBM Capstone Project Development"
        },
        {
            "cell_type": "code",
            "execution_count": 1,
            "metadata": {},
            "outputs": [],
            "source": "import pandas as pd\nimport numpy as np"
        },
        {
            "cell_type": "code",
            "execution_count": 2,
            "metadata": {},
            "outputs": [
                {
                    "name": "stdout",
                    "output_type": "stream",
                    "text": "Hello Capstone Project Course!\n"
                }
            ],
            "source": "print('Hello Capstone Project Course!')"
        },
        {
            "cell_type": "markdown",
            "metadata": {},
            "source": "# Battle of Neighborhoods - Choose the Best Location for Choosing an Apartment in Baltimore, MD"
        },
        {
            "cell_type": "markdown",
            "metadata": {},
            "source": "### In 2019, Baltimore ranks the 4th most dangerous city in America, according to financial news website 247wallst.com. Baltimore\u2019s violent crime rate in 2018, which was 1,833.4 per 100,000 people, is nearly five times higher than the national violent crime rate of 369 per 100,000 people. At the same time, properties some of the safest areas of Baltimore remained overly expensive for both buyers and renters. The disconnection between the housing market and the public not only arouses social uneasiness but also widens the economcic gap between working classes. \n\n### However, there is currently no accesible platform that integrates data from various aspects that people would take into account when choosing a place to stay. To provide guidance and support to old and new residents and help them to make data-driven decisions, this project will analyze crime data, housing prices, and venues of different neighborhoods within the city of Baltimore. "
        },
        {
            "cell_type": "markdown",
            "metadata": {},
            "source": ""
        },
        {
            "cell_type": "markdown",
            "metadata": {},
            "source": "## 1. Analysis of crime data of Baltimore\n### Crime data will be pulled from the database of Baltimore Police Department. Data contains data, time, geographical location, type, neighborhood, etc. This data will show the crime rate in different neighborhoods of Baltimore."
        },
        {
            "cell_type": "code",
            "execution_count": null,
            "metadata": {},
            "outputs": [],
            "source": ""
        },
        {
            "cell_type": "markdown",
            "metadata": {},
            "source": "## 2. Analysis of average income of households from different neighborhoods. \n### Data will be gathered from multiple locations including Data USA, Statistical Atlas, and the US Census Bureau. This data will show the medium households income of different neighborhoods of Baltimore. "
        },
        {
            "cell_type": "code",
            "execution_count": null,
            "metadata": {},
            "outputs": [],
            "source": ""
        },
        {
            "cell_type": "markdown",
            "metadata": {},
            "source": "## 3. Analysis of distribution of different venues among different neighborhoods.\n### FourSquare API will be used to pull different venues of different neighborhoods. Neighborhoods will be further clustered and analyzed based on their nearest venues to differentiate living versus working spaces. "
        },
        {
            "cell_type": "code",
            "execution_count": null,
            "metadata": {},
            "outputs": [],
            "source": ""
        }
    ],
    "metadata": {
        "kernelspec": {
            "display_name": "Python 3.6",
            "language": "python",
            "name": "python3"
        },
        "language_info": {
            "codemirror_mode": {
                "name": "ipython",
                "version": 3
            },
            "file_extension": ".py",
            "mimetype": "text/x-python",
            "name": "python",
            "nbconvert_exporter": "python",
            "pygments_lexer": "ipython3",
            "version": "3.6.9"
        }
    },
    "nbformat": 4,
    "nbformat_minor": 1
}